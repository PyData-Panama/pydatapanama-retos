{
 "cells": [
  {
   "cell_type": "markdown",
   "id": "57ea9a95",
   "metadata": {},
   "source": [
    "# 🎬 Reto de Análisis de Películas – *Movies Challenge*"
   ]
  },
  {
   "cell_type": "code",
   "execution_count": null,
   "id": "3adad9e2",
   "metadata": {},
   "outputs": [],
   "source": [
    "import pandas as pd\n",
    "import numpy as np\n",
    "import matplotlib.pyplot as plt\n",
    "import seaborn as sns\n",
    "from pathlib import Path"
   ]
  },
  {
   "cell_type": "code",
   "execution_count": null,
   "id": "de291022",
   "metadata": {},
   "outputs": [],
   "source": [
    "# Project root directory\n",
    "project_root = Path().resolve()\n",
    "movies_data_path = str(project_root / \"retos\" / \"reto-movies-jasonssdev\" / \"data\" / \"movies.csv\")\n"
   ]
  },
  {
   "cell_type": "code",
   "execution_count": null,
   "id": "46c13c27",
   "metadata": {},
   "outputs": [],
   "source": [
    "df_movies = pd.read_csv(movies_data_path, sep=',', encoding='utf-8')\n",
    "df_movies.head()"
   ]
  },
  {
   "cell_type": "markdown",
   "id": "d37b9cad",
   "metadata": {},
   "source": [
    "### 1️⃣ Duración promedio por década  \n",
    "**Pregunta:**  \n",
    "> ¿Cuál es la duración media de las películas y cómo ha evolucionado en cada década?\n",
    "\n",
    "**Pista:**  \n",
    "Agrupa por la **década** derivada de la columna `title_year` y calcula la media de `duration`."
   ]
  },
  {
   "cell_type": "code",
   "execution_count": null,
   "id": "30f9d85c",
   "metadata": {},
   "outputs": [],
   "source": [
    "# código"
   ]
  },
  {
   "cell_type": "markdown",
   "id": "3f9a3329",
   "metadata": {},
   "source": [
    "### 2️⃣ Directores taquilleros  \n",
    "**Pregunta:**  \n",
    "> ¿Qué 5 directores acumulan la mayor recaudación total (`gross`) en el dataset?\n",
    "\n",
    "**Pista:**  \n",
    "Agrupa por `director_name`, suma la columna `gross`, luego ordena de mayor a menor y muestra los primeros cinco resultados."
   ]
  },
  {
   "cell_type": "code",
   "execution_count": null,
   "id": "bef8d24b",
   "metadata": {},
   "outputs": [],
   "source": [
    "# código"
   ]
  },
  {
   "cell_type": "markdown",
   "id": "a2d20cb2",
   "metadata": {},
   "source": [
    "### 3️⃣ Presupuesto vs. Éxito crítico  \n",
    "**Pregunta:**  \n",
    "> ¿Existe correlación entre el presupuesto (`budget`) y la puntuación IMDb (`imdb_score`)?\n",
    "\n",
    "**Pista:**  \n",
    "Convierte `budget` a numérico (puede tener nulos), luego usa el método `.corr()` de Pandas para obtener el coeficiente de Pearson entre ambas columnas."
   ]
  },
  {
   "cell_type": "code",
   "execution_count": null,
   "id": "04548d36",
   "metadata": {},
   "outputs": [],
   "source": [
    "# código"
   ]
  },
  {
   "cell_type": "markdown",
   "id": "776d4e9a",
   "metadata": {},
   "source": [
    "### 4️⃣ Género y clasificación  \n",
    "**Pregunta:**  \n",
    "> ¿Cuál es el género con el mayor porcentaje de películas clasificadas como **PG-13**?\n",
    "\n",
    "**Pista:**  \n",
    "1. La columna `genres` contiene varios géneros separados por `\"|\"`.  \n",
    "2. Expande esa columna (`str.split('|')`) y usa `explode()` para tener un género por fila.  \n",
    "3. Filtra las filas con `content_rating == 'PG-13'`, cuenta cuántas películas tiene cada género y calcula el porcentaje sobre el total de PG-13."
   ]
  },
  {
   "cell_type": "code",
   "execution_count": null,
   "id": "f589a7d3",
   "metadata": {},
   "outputs": [],
   "source": [
    "# código"
   ]
  },
  {
   "cell_type": "markdown",
   "id": "9489502f",
   "metadata": {},
   "source": [
    "### 5️⃣ Críticas vs. Puntuación  \n",
    "**Pregunta:**  \n",
    "> ¿Cómo se relaciona el número de **críticas de usuarios** con la puntuación IMDb?\n",
    "\n",
    "**Pista:**  \n",
    "Utiliza la columna `num_user_for_reviews` como indicador de cuántas críticas ha recibido una película.  \n",
    "Calcula el coeficiente de correlación (Pearson) con `imdb_score` y, opcionalmente, crea un scatterplot para visualizar la relación."
   ]
  },
  {
   "cell_type": "code",
   "execution_count": null,
   "id": "d51568d0",
   "metadata": {},
   "outputs": [],
   "source": [
    "# código"
   ]
  },
  {
   "cell_type": "markdown",
   "id": "d2f3006d",
   "metadata": {},
   "source": [
    "### 6️⃣ Mercados más lucrativos  \n",
    "**Pregunta:**  \n",
    "> ¿Qué país presenta la **mediana** de recaudación (`gross`) más alta?\n",
    "\n",
    "**Pista:**  \n",
    "Agrupa por `country`, calcula la **mediana** de `gross`, ordena de mayor a menor y revisa el primer resultado.  \n",
    "La mediana es menos sensible a outliers que el promedio, por eso se usa aquí."
   ]
  },
  {
   "cell_type": "code",
   "execution_count": null,
   "id": "2d613e95",
   "metadata": {},
   "outputs": [],
   "source": [
    "# código"
   ]
  },
  {
   "cell_type": "markdown",
   "id": "1ba43c3d",
   "metadata": {},
   "source": [
    "### 7️⃣ Color vs. Blanco-y-negro  \n",
    "**Pregunta:**  \n",
    "> ¿Cómo difieren las puntuaciones IMDb entre películas a **color** y **blanco-y-negro**?\n",
    "\n",
    "**Pista:**  \n",
    "La columna `color` indica `'Color'` o `'Black and White'`.  \n",
    "Comparar las distribuciones con un **boxplot** (o violinplot) y, si quieres un número, calcula la media o mediana de `imdb_score` para cada categoría."
   ]
  },
  {
   "cell_type": "code",
   "execution_count": null,
   "id": "878ec374",
   "metadata": {},
   "outputs": [],
   "source": [
    "# código"
   ]
  },
  {
   "cell_type": "markdown",
   "id": "99a90524",
   "metadata": {},
   "source": [
    "### 8️⃣ Rostro del éxito  \n",
    "**Pregunta:**  \n",
    "> ¿Qué actor o actriz aparece con mayor frecuencia entre las **100 películas con mejor puntuación IMDb**?\n",
    "\n",
    "**Pista:**  \n",
    "1. Ordena el DataFrame por `imdb_score` de forma descendente y conserva solo las primeras 100 filas.  \n",
    "2. Combina las columnas `actor_1_name`, `actor_2_name`, `actor_3_name` en una sola serie (`pd.concat`).  \n",
    "3. Usa `value_counts()` para contar apariciones y obtén el primer resultado."
   ]
  },
  {
   "cell_type": "code",
   "execution_count": null,
   "id": "1a2f1f43",
   "metadata": {},
   "outputs": [],
   "source": [
    "# código"
   ]
  },
  {
   "cell_type": "markdown",
   "id": "77d882c7",
   "metadata": {},
   "source": [
    "### 9️⃣ Recaudación por clasificación  \n",
    "**Pregunta:**  \n",
    "> ¿Cómo varía la recaudación (`gross`) según la clasificación por edad (`content_rating`)?  \n",
    "> (Compara las distribuciones con un **boxplot**).\n",
    "\n",
    "**Pista:**  \n",
    "Filtra valores nulos en `gross`, usa `hue=\"color\"` `sns.boxplot()` con `x='content_rating'` y `y='gross'`; rota las etiquetas para legibilidad."
   ]
  },
  {
   "cell_type": "code",
   "execution_count": null,
   "id": "369e692b",
   "metadata": {},
   "outputs": [],
   "source": [
    "# código"
   ]
  },
  {
   "cell_type": "markdown",
   "id": "538715ab",
   "metadata": {},
   "source": [
    "### 🔟 Géneros más rentables  \n",
    "**Pregunta:**  \n",
    "> ¿Qué **tres géneros** presentan la recaudación promedio (`gross`) más alta?\n",
    "\n",
    "**Pista:**  \n",
    "Expande la columna `genres` con `str.split('|')` + `explode()`, convierte `gross` a numérico, agrupa por género y calcula la media."
   ]
  },
  {
   "cell_type": "code",
   "execution_count": null,
   "id": "0ca96807",
   "metadata": {},
   "outputs": [],
   "source": [
    "# código"
   ]
  },
  {
   "cell_type": "markdown",
   "id": "4277e3d7",
   "metadata": {},
   "source": [
    "## 🎉 ¡Felicitaciones!\n",
    "\n",
    "Has completado el **Reto de Análisis de Películas** — demostraste tu habilidad para limpiar datos, explorar patrones y extraer insights accionables a partir de información cinematográfica. 👏\n",
    "\n",
    "Tu notebook ya forma parte de la colección de soluciones de PyData Panamá.  \n",
    "¡Comparte tus hallazgos en redes y sigue practicando; el próximo blockbuster de datos espera por ti! 🚀"
   ]
  },
  {
   "cell_type": "markdown",
   "id": "e5cb5c55",
   "metadata": {},
   "source": []
  }
 ],
 "metadata": {
  "kernelspec": {
   "display_name": "da-py3.12",
   "language": "python",
   "name": "python3"
  },
  "language_info": {
   "codemirror_mode": {
    "name": "ipython",
    "version": 3
   },
   "file_extension": ".py",
   "mimetype": "text/x-python",
   "name": "python",
   "nbconvert_exporter": "python",
   "pygments_lexer": "ipython3",
   "version": "3.12.2"
  }
 },
 "nbformat": 4,
 "nbformat_minor": 5
}
