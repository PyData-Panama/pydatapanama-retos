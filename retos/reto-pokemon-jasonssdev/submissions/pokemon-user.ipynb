{
 "cells": [
  {
   "cell_type": "markdown",
   "id": "01405e1e",
   "metadata": {},
   "source": [
    "# Reto Pokemon by @jasonssdev"
   ]
  },
  {
   "cell_type": "markdown",
   "id": "57813511",
   "metadata": {},
   "source": [
    "## Importar Librerias"
   ]
  },
  {
   "cell_type": "code",
   "execution_count": null,
   "id": "c234d5a8",
   "metadata": {},
   "outputs": [],
   "source": [
    "import pandas as pd\n",
    "import numpy as np\n",
    "import matplotlib.pyplot as plt\n",
    "import seaborn as sns\n",
    "from pathlib import Path"
   ]
  },
  {
   "cell_type": "markdown",
   "id": "3f5ea9ed",
   "metadata": {},
   "source": [
    "## Path\n"
   ]
  },
  {
   "cell_type": "code",
   "execution_count": null,
   "id": "e6ab3099",
   "metadata": {},
   "outputs": [],
   "source": [
    "# Project root directory\n",
    "project_root = Path().resolve()\n",
    "pokemon_data_path = project_root / \"retos\" / \"reto-pokemon-jasonssdev\" / \"data\" / \"all_pokemon_data.csv\"\n",
    "pokemon_data_path"
   ]
  },
  {
   "cell_type": "markdown",
   "id": "03fc5816",
   "metadata": {},
   "source": [
    "## Cargar Dataset"
   ]
  },
  {
   "cell_type": "code",
   "execution_count": null,
   "id": "0cc3d0c3",
   "metadata": {},
   "outputs": [],
   "source": [
    "df_pokemon = pd.read_csv(pokemon_data_path)"
   ]
  },
  {
   "cell_type": "markdown",
   "id": "d64d83ba",
   "metadata": {},
   "source": [
    "## Preguntas"
   ]
  },
  {
   "cell_type": "markdown",
   "id": "ab062087",
   "metadata": {},
   "source": [
    "## 🔹 Nivel Low (Básico)"
   ]
  },
  {
   "cell_type": "markdown",
   "id": "3194b837",
   "metadata": {},
   "source": [
    "### Pregunta 1: ¿Cuántos pokemones hay en total?"
   ]
  },
  {
   "cell_type": "code",
   "execution_count": null,
   "id": "a9e43ecb",
   "metadata": {},
   "outputs": [],
   "source": [
    "\n",
    "#codigo"
   ]
  },
  {
   "cell_type": "markdown",
   "id": "cd12570e",
   "metadata": {},
   "source": [
    "### Pregunta 2: ¿Cuáles son los 5 tipos más comunes (columna `Primary Typing`)?"
   ]
  },
  {
   "cell_type": "code",
   "execution_count": null,
   "id": "de53ef83",
   "metadata": {},
   "outputs": [],
   "source": [
    "#codigo"
   ]
  },
  {
   "cell_type": "markdown",
   "id": "3ec49c5b",
   "metadata": {},
   "source": [
    "### Pregunta 3: ¿Cuál es el promedio de Velocidad `(Speed)` de todos los pokemones?"
   ]
  },
  {
   "cell_type": "code",
   "execution_count": null,
   "id": "5ac11ce3",
   "metadata": {},
   "outputs": [],
   "source": [
    "#codigo"
   ]
  },
  {
   "cell_type": "markdown",
   "id": "464ff04f",
   "metadata": {},
   "source": [
    "## 🔸 Nivel Medium (Intermedio)"
   ]
  },
  {
   "cell_type": "markdown",
   "id": "2e721362",
   "metadata": {},
   "source": [
    "### Pregunta 4: ¿Cuál es la correlación entre las estadísticas `Attack`, `Defense` y `Speed`? Muestra un heatmap."
   ]
  },
  {
   "cell_type": "code",
   "execution_count": null,
   "id": "779548e8",
   "metadata": {},
   "outputs": [],
   "source": [
    "#codigo"
   ]
  },
  {
   "cell_type": "code",
   "execution_count": null,
   "id": "f1f3f62a",
   "metadata": {},
   "outputs": [],
   "source": [
    "#codigo"
   ]
  },
  {
   "cell_type": "markdown",
   "id": "833ff6f7",
   "metadata": {},
   "source": [
    "### Pregunta 5: ¿Qué tipo (`Primary Typing`) tiene el mayor promedio de `Attack`?"
   ]
  },
  {
   "cell_type": "code",
   "execution_count": null,
   "id": "75f33f24",
   "metadata": {},
   "outputs": [],
   "source": [
    "#codigo"
   ]
  },
  {
   "cell_type": "markdown",
   "id": "22322c25",
   "metadata": {},
   "source": [
    "### Pregunta 6: Crear un histograma de la variable `Speed`"
   ]
  },
  {
   "cell_type": "code",
   "execution_count": null,
   "id": "5536b852",
   "metadata": {},
   "outputs": [],
   "source": [
    "#codigo"
   ]
  },
  {
   "cell_type": "markdown",
   "id": "87a5c60c",
   "metadata": {},
   "source": [
    "## 🔺 Nivel High (Avanzado)"
   ]
  },
  {
   "cell_type": "markdown",
   "id": "fde6b2c3",
   "metadata": {},
   "source": [
    "### Pregunta 7: ¿Qué pokemones tienen estadísticas totales (`Base Stat Total`) superiores al percentil 90? ¿Qué tipos predominan en este grupo?"
   ]
  },
  {
   "cell_type": "code",
   "execution_count": null,
   "id": "8f89b72c",
   "metadata": {},
   "outputs": [],
   "source": [
    "#codigo"
   ]
  },
  {
   "cell_type": "markdown",
   "id": "dd8fdad4",
   "metadata": {},
   "source": [
    "### Pregunta 8: Clasifica a los pokemones en tres categorías según su `Base Stat Total`: \"Débil\", \"Normal\" y \"Fuerte\". Luego, muestra la distribución de estas categorías en un gráfico de barras."
   ]
  },
  {
   "cell_type": "code",
   "execution_count": null,
   "id": "8fed8f31",
   "metadata": {},
   "outputs": [],
   "source": [
    "#codigo"
   ]
  },
  {
   "cell_type": "code",
   "execution_count": null,
   "id": "6245b9ba",
   "metadata": {},
   "outputs": [],
   "source": [
    "#codigo"
   ]
  },
  {
   "cell_type": "markdown",
   "id": "b984dd1d",
   "metadata": {},
   "source": [
    "### Pregunta 9: Crear un pairplot de `Attack`, `Defense`, `Speed` y colorear por `Legendary`"
   ]
  },
  {
   "cell_type": "code",
   "execution_count": null,
   "id": "1e2dbdeb",
   "metadata": {},
   "outputs": [],
   "source": [
    "#codigo"
   ]
  }
 ],
 "metadata": {
  "kernelspec": {
   "display_name": "da-py3.12",
   "language": "python",
   "name": "python3"
  },
  "language_info": {
   "codemirror_mode": {
    "name": "ipython",
    "version": 3
   },
   "file_extension": ".py",
   "mimetype": "text/x-python",
   "name": "python",
   "nbconvert_exporter": "python",
   "pygments_lexer": "ipython3",
   "version": "3.12.2"
  }
 },
 "nbformat": 4,
 "nbformat_minor": 5
}
