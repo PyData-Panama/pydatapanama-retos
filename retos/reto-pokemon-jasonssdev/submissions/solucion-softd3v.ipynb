{
 "cells": [
  {
   "cell_type": "markdown",
   "id": "e56245be",
   "metadata": {},
   "source": [
    "# Pregunta 1: ¿Cuántos pokemones hay en total?"
   ]
  },
  {
   "cell_type": "code",
   "execution_count": 3,
   "id": "2378e091",
   "metadata": {},
   "outputs": [],
   "source": [
    "import pandas as pd\n",
    "import numpy as np\n",
    "import matplotlib.pyplot as plt\n",
    "import seaborn as sns\n",
    "from pathlib import Path"
   ]
  },
  {
   "cell_type": "code",
   "execution_count": 4,
   "id": "d9e92e25",
   "metadata": {},
   "outputs": [],
   "source": [
    "# Project root directory\n",
    "project_root = Path().resolve().parent.parent.parent\n",
    "pokemon_data_path = project_root / \"retos\" / \"reto-pokemon-jasonssdev\" / \"data\" / \"all_pokemon_data.csv\""
   ]
  },
  {
   "cell_type": "code",
   "execution_count": 5,
   "id": "80a70210",
   "metadata": {},
   "outputs": [
    {
     "data": {
      "text/html": [
       "<div>\n",
       "<style scoped>\n",
       "    .dataframe tbody tr th:only-of-type {\n",
       "        vertical-align: middle;\n",
       "    }\n",
       "\n",
       "    .dataframe tbody tr th {\n",
       "        vertical-align: top;\n",
       "    }\n",
       "\n",
       "    .dataframe thead th {\n",
       "        text-align: right;\n",
       "    }\n",
       "</style>\n",
       "<table border=\"1\" class=\"dataframe\">\n",
       "  <thead>\n",
       "    <tr style=\"text-align: right;\">\n",
       "      <th></th>\n",
       "      <th>Name</th>\n",
       "      <th>National Dex #</th>\n",
       "      <th>Primary Typing</th>\n",
       "      <th>Secondary Typing</th>\n",
       "      <th>Secondary Typing Flag</th>\n",
       "      <th>Generation</th>\n",
       "      <th>Legendary Status</th>\n",
       "      <th>Form</th>\n",
       "      <th>Alt Form Flag</th>\n",
       "      <th>Evolution Stage</th>\n",
       "      <th>...</th>\n",
       "      <th>Weight (hg)</th>\n",
       "      <th>Height (in)</th>\n",
       "      <th>Weight (lbs)</th>\n",
       "      <th>Base Stat Total</th>\n",
       "      <th>Health</th>\n",
       "      <th>Attack</th>\n",
       "      <th>Defense</th>\n",
       "      <th>Special Attack</th>\n",
       "      <th>Special Defense</th>\n",
       "      <th>Speed</th>\n",
       "    </tr>\n",
       "  </thead>\n",
       "  <tbody>\n",
       "    <tr>\n",
       "      <th>0</th>\n",
       "      <td>bulbasaur</td>\n",
       "      <td>1</td>\n",
       "      <td>grass</td>\n",
       "      <td>poison</td>\n",
       "      <td>True</td>\n",
       "      <td>generation-i</td>\n",
       "      <td>False</td>\n",
       "      <td>Base</td>\n",
       "      <td>False</td>\n",
       "      <td>1</td>\n",
       "      <td>...</td>\n",
       "      <td>69</td>\n",
       "      <td>28</td>\n",
       "      <td>15</td>\n",
       "      <td>318</td>\n",
       "      <td>45</td>\n",
       "      <td>49</td>\n",
       "      <td>49</td>\n",
       "      <td>65</td>\n",
       "      <td>65</td>\n",
       "      <td>45</td>\n",
       "    </tr>\n",
       "    <tr>\n",
       "      <th>1</th>\n",
       "      <td>ivysaur</td>\n",
       "      <td>2</td>\n",
       "      <td>grass</td>\n",
       "      <td>poison</td>\n",
       "      <td>True</td>\n",
       "      <td>generation-i</td>\n",
       "      <td>False</td>\n",
       "      <td>Base</td>\n",
       "      <td>False</td>\n",
       "      <td>2</td>\n",
       "      <td>...</td>\n",
       "      <td>130</td>\n",
       "      <td>39</td>\n",
       "      <td>29</td>\n",
       "      <td>405</td>\n",
       "      <td>60</td>\n",
       "      <td>62</td>\n",
       "      <td>63</td>\n",
       "      <td>80</td>\n",
       "      <td>80</td>\n",
       "      <td>60</td>\n",
       "    </tr>\n",
       "    <tr>\n",
       "      <th>2</th>\n",
       "      <td>venusaur</td>\n",
       "      <td>3</td>\n",
       "      <td>grass</td>\n",
       "      <td>poison</td>\n",
       "      <td>True</td>\n",
       "      <td>generation-i</td>\n",
       "      <td>False</td>\n",
       "      <td>Base</td>\n",
       "      <td>False</td>\n",
       "      <td>3</td>\n",
       "      <td>...</td>\n",
       "      <td>1000</td>\n",
       "      <td>79</td>\n",
       "      <td>220</td>\n",
       "      <td>525</td>\n",
       "      <td>80</td>\n",
       "      <td>82</td>\n",
       "      <td>83</td>\n",
       "      <td>100</td>\n",
       "      <td>100</td>\n",
       "      <td>80</td>\n",
       "    </tr>\n",
       "    <tr>\n",
       "      <th>3</th>\n",
       "      <td>venusaur-mega</td>\n",
       "      <td>3</td>\n",
       "      <td>grass</td>\n",
       "      <td>poison</td>\n",
       "      <td>True</td>\n",
       "      <td>generation-i</td>\n",
       "      <td>True</td>\n",
       "      <td>Mega</td>\n",
       "      <td>True</td>\n",
       "      <td>3</td>\n",
       "      <td>...</td>\n",
       "      <td>1555</td>\n",
       "      <td>94</td>\n",
       "      <td>343</td>\n",
       "      <td>625</td>\n",
       "      <td>80</td>\n",
       "      <td>100</td>\n",
       "      <td>123</td>\n",
       "      <td>122</td>\n",
       "      <td>120</td>\n",
       "      <td>80</td>\n",
       "    </tr>\n",
       "    <tr>\n",
       "      <th>4</th>\n",
       "      <td>charmander</td>\n",
       "      <td>4</td>\n",
       "      <td>fire</td>\n",
       "      <td>NaN</td>\n",
       "      <td>False</td>\n",
       "      <td>generation-i</td>\n",
       "      <td>False</td>\n",
       "      <td>Base</td>\n",
       "      <td>False</td>\n",
       "      <td>1</td>\n",
       "      <td>...</td>\n",
       "      <td>85</td>\n",
       "      <td>24</td>\n",
       "      <td>19</td>\n",
       "      <td>309</td>\n",
       "      <td>39</td>\n",
       "      <td>52</td>\n",
       "      <td>43</td>\n",
       "      <td>60</td>\n",
       "      <td>50</td>\n",
       "      <td>65</td>\n",
       "    </tr>\n",
       "  </tbody>\n",
       "</table>\n",
       "<p>5 rows × 24 columns</p>\n",
       "</div>"
      ],
      "text/plain": [
       "            Name  National Dex # Primary Typing Secondary Typing  \\\n",
       "0      bulbasaur               1          grass           poison   \n",
       "1        ivysaur               2          grass           poison   \n",
       "2       venusaur               3          grass           poison   \n",
       "3  venusaur-mega               3          grass           poison   \n",
       "4     charmander               4           fire              NaN   \n",
       "\n",
       "   Secondary Typing Flag    Generation  Legendary Status  Form  Alt Form Flag  \\\n",
       "0                   True  generation-i             False  Base          False   \n",
       "1                   True  generation-i             False  Base          False   \n",
       "2                   True  generation-i             False  Base          False   \n",
       "3                   True  generation-i              True  Mega           True   \n",
       "4                  False  generation-i             False  Base          False   \n",
       "\n",
       "   Evolution Stage  ...  Weight (hg) Height (in)  Weight (lbs)  \\\n",
       "0                1  ...           69          28            15   \n",
       "1                2  ...          130          39            29   \n",
       "2                3  ...         1000          79           220   \n",
       "3                3  ...         1555          94           343   \n",
       "4                1  ...           85          24            19   \n",
       "\n",
       "   Base Stat Total  Health  Attack  Defense  Special Attack  Special Defense  \\\n",
       "0              318      45      49       49              65               65   \n",
       "1              405      60      62       63              80               80   \n",
       "2              525      80      82       83             100              100   \n",
       "3              625      80     100      123             122              120   \n",
       "4              309      39      52       43              60               50   \n",
       "\n",
       "   Speed  \n",
       "0     45  \n",
       "1     60  \n",
       "2     80  \n",
       "3     80  \n",
       "4     65  \n",
       "\n",
       "[5 rows x 24 columns]"
      ]
     },
     "execution_count": 5,
     "metadata": {},
     "output_type": "execute_result"
    }
   ],
   "source": [
    "df_pokemon = pd.read_csv(pokemon_data_path)\n",
    "df_pokemon.head()"
   ]
  },
  {
   "cell_type": "code",
   "execution_count": 6,
   "id": "2299e0a3",
   "metadata": {},
   "outputs": [
    {
     "data": {
      "text/html": [
       "<div>\n",
       "<style scoped>\n",
       "    .dataframe tbody tr th:only-of-type {\n",
       "        vertical-align: middle;\n",
       "    }\n",
       "\n",
       "    .dataframe tbody tr th {\n",
       "        vertical-align: top;\n",
       "    }\n",
       "\n",
       "    .dataframe thead th {\n",
       "        text-align: right;\n",
       "    }\n",
       "</style>\n",
       "<table border=\"1\" class=\"dataframe\">\n",
       "  <thead>\n",
       "    <tr style=\"text-align: right;\">\n",
       "      <th></th>\n",
       "      <th>National Dex #</th>\n",
       "      <th>Evolution Stage</th>\n",
       "      <th>Number of Evolution</th>\n",
       "      <th>Catch Rate</th>\n",
       "      <th>Height (dm)</th>\n",
       "      <th>Weight (hg)</th>\n",
       "      <th>Height (in)</th>\n",
       "      <th>Weight (lbs)</th>\n",
       "      <th>Base Stat Total</th>\n",
       "      <th>Health</th>\n",
       "      <th>Attack</th>\n",
       "      <th>Defense</th>\n",
       "      <th>Special Attack</th>\n",
       "      <th>Special Defense</th>\n",
       "      <th>Speed</th>\n",
       "    </tr>\n",
       "  </thead>\n",
       "  <tbody>\n",
       "    <tr>\n",
       "      <th>count</th>\n",
       "      <td>1184.000000</td>\n",
       "      <td>1184.000000</td>\n",
       "      <td>1184.000000</td>\n",
       "      <td>1184.000000</td>\n",
       "      <td>1184.000000</td>\n",
       "      <td>1184.000000</td>\n",
       "      <td>1184.000000</td>\n",
       "      <td>1184.000000</td>\n",
       "      <td>1184.000000</td>\n",
       "      <td>1184.000000</td>\n",
       "      <td>1184.000000</td>\n",
       "      <td>1184.000000</td>\n",
       "      <td>1184.000000</td>\n",
       "      <td>1184.000000</td>\n",
       "      <td>1184.000000</td>\n",
       "    </tr>\n",
       "    <tr>\n",
       "      <th>mean</th>\n",
       "      <td>494.978041</td>\n",
       "      <td>1.597128</td>\n",
       "      <td>2.108108</td>\n",
       "      <td>92.202703</td>\n",
       "      <td>12.829392</td>\n",
       "      <td>730.995777</td>\n",
       "      <td>50.535473</td>\n",
       "      <td>161.163851</td>\n",
       "      <td>441.633446</td>\n",
       "      <td>70.910473</td>\n",
       "      <td>80.989020</td>\n",
       "      <td>74.817568</td>\n",
       "      <td>72.922297</td>\n",
       "      <td>72.265203</td>\n",
       "      <td>69.728885</td>\n",
       "    </tr>\n",
       "    <tr>\n",
       "      <th>std</th>\n",
       "      <td>299.166288</td>\n",
       "      <td>0.700700</td>\n",
       "      <td>0.735618</td>\n",
       "      <td>75.715485</td>\n",
       "      <td>13.646223</td>\n",
       "      <td>1311.060248</td>\n",
       "      <td>53.682455</td>\n",
       "      <td>289.037497</td>\n",
       "      <td>119.296702</td>\n",
       "      <td>26.406800</td>\n",
       "      <td>31.955337</td>\n",
       "      <td>30.324208</td>\n",
       "      <td>32.426324</td>\n",
       "      <td>27.095940</td>\n",
       "      <td>30.110391</td>\n",
       "    </tr>\n",
       "    <tr>\n",
       "      <th>min</th>\n",
       "      <td>1.000000</td>\n",
       "      <td>1.000000</td>\n",
       "      <td>1.000000</td>\n",
       "      <td>3.000000</td>\n",
       "      <td>1.000000</td>\n",
       "      <td>1.000000</td>\n",
       "      <td>4.000000</td>\n",
       "      <td>0.000000</td>\n",
       "      <td>175.000000</td>\n",
       "      <td>1.000000</td>\n",
       "      <td>5.000000</td>\n",
       "      <td>5.000000</td>\n",
       "      <td>10.000000</td>\n",
       "      <td>20.000000</td>\n",
       "      <td>5.000000</td>\n",
       "    </tr>\n",
       "    <tr>\n",
       "      <th>25%</th>\n",
       "      <td>230.750000</td>\n",
       "      <td>1.000000</td>\n",
       "      <td>2.000000</td>\n",
       "      <td>45.000000</td>\n",
       "      <td>6.000000</td>\n",
       "      <td>89.750000</td>\n",
       "      <td>24.000000</td>\n",
       "      <td>20.000000</td>\n",
       "      <td>330.000000</td>\n",
       "      <td>52.000000</td>\n",
       "      <td>57.000000</td>\n",
       "      <td>52.000000</td>\n",
       "      <td>50.000000</td>\n",
       "      <td>51.000000</td>\n",
       "      <td>45.000000</td>\n",
       "    </tr>\n",
       "    <tr>\n",
       "      <th>50%</th>\n",
       "      <td>486.500000</td>\n",
       "      <td>1.000000</td>\n",
       "      <td>2.000000</td>\n",
       "      <td>60.000000</td>\n",
       "      <td>10.000000</td>\n",
       "      <td>300.000000</td>\n",
       "      <td>39.000000</td>\n",
       "      <td>66.000000</td>\n",
       "      <td>464.500000</td>\n",
       "      <td>70.000000</td>\n",
       "      <td>80.000000</td>\n",
       "      <td>70.000000</td>\n",
       "      <td>65.000000</td>\n",
       "      <td>70.000000</td>\n",
       "      <td>67.500000</td>\n",
       "    </tr>\n",
       "    <tr>\n",
       "      <th>75%</th>\n",
       "      <td>751.250000</td>\n",
       "      <td>2.000000</td>\n",
       "      <td>3.000000</td>\n",
       "      <td>127.000000</td>\n",
       "      <td>16.000000</td>\n",
       "      <td>775.500000</td>\n",
       "      <td>63.000000</td>\n",
       "      <td>171.250000</td>\n",
       "      <td>520.000000</td>\n",
       "      <td>85.000000</td>\n",
       "      <td>100.000000</td>\n",
       "      <td>91.000000</td>\n",
       "      <td>95.000000</td>\n",
       "      <td>90.000000</td>\n",
       "      <td>91.000000</td>\n",
       "    </tr>\n",
       "    <tr>\n",
       "      <th>max</th>\n",
       "      <td>1025.000000</td>\n",
       "      <td>3.000000</td>\n",
       "      <td>3.000000</td>\n",
       "      <td>255.000000</td>\n",
       "      <td>200.000000</td>\n",
       "      <td>9999.000000</td>\n",
       "      <td>787.000000</td>\n",
       "      <td>2204.000000</td>\n",
       "      <td>780.000000</td>\n",
       "      <td>255.000000</td>\n",
       "      <td>190.000000</td>\n",
       "      <td>230.000000</td>\n",
       "      <td>194.000000</td>\n",
       "      <td>230.000000</td>\n",
       "      <td>200.000000</td>\n",
       "    </tr>\n",
       "  </tbody>\n",
       "</table>\n",
       "</div>"
      ],
      "text/plain": [
       "       National Dex #  Evolution Stage  Number of Evolution   Catch Rate  \\\n",
       "count     1184.000000      1184.000000          1184.000000  1184.000000   \n",
       "mean       494.978041         1.597128             2.108108    92.202703   \n",
       "std        299.166288         0.700700             0.735618    75.715485   \n",
       "min          1.000000         1.000000             1.000000     3.000000   \n",
       "25%        230.750000         1.000000             2.000000    45.000000   \n",
       "50%        486.500000         1.000000             2.000000    60.000000   \n",
       "75%        751.250000         2.000000             3.000000   127.000000   \n",
       "max       1025.000000         3.000000             3.000000   255.000000   \n",
       "\n",
       "       Height (dm)  Weight (hg)  Height (in)  Weight (lbs)  Base Stat Total  \\\n",
       "count  1184.000000  1184.000000  1184.000000   1184.000000      1184.000000   \n",
       "mean     12.829392   730.995777    50.535473    161.163851       441.633446   \n",
       "std      13.646223  1311.060248    53.682455    289.037497       119.296702   \n",
       "min       1.000000     1.000000     4.000000      0.000000       175.000000   \n",
       "25%       6.000000    89.750000    24.000000     20.000000       330.000000   \n",
       "50%      10.000000   300.000000    39.000000     66.000000       464.500000   \n",
       "75%      16.000000   775.500000    63.000000    171.250000       520.000000   \n",
       "max     200.000000  9999.000000   787.000000   2204.000000       780.000000   \n",
       "\n",
       "            Health       Attack      Defense  Special Attack  Special Defense  \\\n",
       "count  1184.000000  1184.000000  1184.000000     1184.000000      1184.000000   \n",
       "mean     70.910473    80.989020    74.817568       72.922297        72.265203   \n",
       "std      26.406800    31.955337    30.324208       32.426324        27.095940   \n",
       "min       1.000000     5.000000     5.000000       10.000000        20.000000   \n",
       "25%      52.000000    57.000000    52.000000       50.000000        51.000000   \n",
       "50%      70.000000    80.000000    70.000000       65.000000        70.000000   \n",
       "75%      85.000000   100.000000    91.000000       95.000000        90.000000   \n",
       "max     255.000000   190.000000   230.000000      194.000000       230.000000   \n",
       "\n",
       "             Speed  \n",
       "count  1184.000000  \n",
       "mean     69.728885  \n",
       "std      30.110391  \n",
       "min       5.000000  \n",
       "25%      45.000000  \n",
       "50%      67.500000  \n",
       "75%      91.000000  \n",
       "max     200.000000  "
      ]
     },
     "execution_count": 6,
     "metadata": {},
     "output_type": "execute_result"
    }
   ],
   "source": [
    "df_pokemon.describe()"
   ]
  },
  {
   "cell_type": "code",
   "execution_count": 7,
   "id": "6c6a1bdd",
   "metadata": {},
   "outputs": [
    {
     "data": {
      "text/plain": [
       "1025"
      ]
     },
     "execution_count": 7,
     "metadata": {},
     "output_type": "execute_result"
    }
   ],
   "source": [
    "df_pokemon['National Dex #'].nunique()"
   ]
  },
  {
   "cell_type": "markdown",
   "id": "abf13a44",
   "metadata": {},
   "source": [
    "Pregunta 2: ¿Cuáles son los 5 tipos más comunes (columna Primary Typing)?"
   ]
  },
  {
   "cell_type": "code",
   "execution_count": 8,
   "id": "a79e00bd",
   "metadata": {},
   "outputs": [
    {
     "data": {
      "text/plain": [
       "Primary Typing\n",
       "water     145\n",
       "normal    128\n",
       "grass     113\n",
       "bug        89\n",
       "fire       77\n",
       "Name: count, dtype: int64"
      ]
     },
     "execution_count": 8,
     "metadata": {},
     "output_type": "execute_result"
    }
   ],
   "source": [
    "df_pokemon['Primary Typing'].value_counts().head(5)"
   ]
  },
  {
   "cell_type": "markdown",
   "id": "cb760ad0",
   "metadata": {},
   "source": [
    "Pregunta 3: ¿Cuál es el promedio de Velocidad (Speed) de todos los pokemones?"
   ]
  },
  {
   "cell_type": "code",
   "execution_count": 9,
   "id": "c1e941a0",
   "metadata": {},
   "outputs": [
    {
     "data": {
      "text/plain": [
       "np.float64(69.72888513513513)"
      ]
     },
     "execution_count": 9,
     "metadata": {},
     "output_type": "execute_result"
    }
   ],
   "source": [
    "df_pokemon['Speed'].mean()"
   ]
  },
  {
   "cell_type": "markdown",
   "id": "198de85d",
   "metadata": {},
   "source": [
    " Nivel Medium (Intermedio)"
   ]
  },
  {
   "cell_type": "markdown",
   "id": "28e232cd",
   "metadata": {},
   "source": [
    "Pregunta 4: ¿Cuál es la correlación entre las estadísticas Attack, Defense y Speed? Muestra un heatmap."
   ]
  },
  {
   "cell_type": "code",
   "execution_count": 14,
   "id": "041fda79",
   "metadata": {},
   "outputs": [
    {
     "name": "stdout",
     "output_type": "stream",
     "text": [
      "Matriz de Correlación:\n",
      "           Attack   Defense     Speed\n",
      "Attack   1.000000  0.478244  0.375029\n",
      "Defense  0.478244  1.000000  0.002947\n",
      "Speed    0.375029  0.002947  1.000000\n"
     ]
    }
   ],
   "source": [
    "correlacion_matrix = df_pokemon[['Attack', 'Defense', 'Speed']].corr()\n",
    "print(\"Matriz de Correlación:\")\n",
    "print(correlacion_matrix)"
   ]
  },
  {
   "cell_type": "code",
   "execution_count": 17,
   "id": "04b41828",
   "metadata": {},
   "outputs": [
    {
     "data": {
      "image/png": "[encoded data removed]",
      "text/plain": [
       "<Figure size 800x700 with 2 Axes>"
      ]
     },
     "metadata": {},
     "output_type": "display_data"
    }
   ],
   "source": [
    "plt.figure(figsize=(8, 7))\n",
    "sns.heatmap(\n",
    "    correlacion_matrix,  \n",
    "    annot=True,          \n",
    "    cmap='coolwarm',     \n",
    "                         \n",
    "    fmt=\".2f\",           \n",
    "    linewidths=.5,       \n",
    "    cbar=True           \n",
    ")\n",
    "plt.title('Heatmap')\n",
    "plt.tight_layout()\n",
    "plt.show()"
   ]
  },
  {
   "cell_type": "markdown",
   "id": "fe18e5c3",
   "metadata": {},
   "source": [
    "Pregunta 5: ¿Qué tipo (Primary Typing) tiene el mayor promedio de Attack?"
   ]
  },
  {
   "cell_type": "code",
   "execution_count": null,
   "id": "323f46cf",
   "metadata": {},
   "outputs": [
    {
     "name": "stdout",
     "output_type": "stream",
     "text": [
      "Promedio de Attack por tipo principal:\n",
      "Primary Typing\n",
      "bug          71.853933\n",
      "dark         85.228070\n",
      "dragon      105.979167\n",
      "electric     72.042254\n",
      "fairy        69.451613\n",
      "fighting    104.960000\n",
      "fire         84.415584\n",
      "flying       79.888889\n",
      "ghost        70.666667\n",
      "grass        77.743363\n",
      "ground       92.978261\n",
      "ice          80.047619\n",
      "normal       76.101562\n",
      "poison       76.208333\n",
      "psychic      74.740260\n",
      "rock         91.112676\n",
      "steel        91.232558\n",
      "water        76.482759\n",
      "Name: Attack, dtype: float64\n",
      "\n",
      "==================================================\n",
      "\n"
     ]
    }
   ],
   "source": [
    "average_attack_by_type = df_pokemon.groupby('Primary Typing')['Attack'].mean()\n",
    "print(\"Promedio de Attack por tipo principal:\")\n",
    "print(average_attack_by_type)\n",
    "print(\"\\n\" + \"=\"*50 + \"\\n\")"
   ]
  },
  {
   "cell_type": "code",
   "execution_count": 23,
   "id": "014540db",
   "metadata": {},
   "outputs": [
    {
     "name": "stdout",
     "output_type": "stream",
     "text": [
      "\n",
      "Tipo con el mayor promedio de Attack:\n",
      "Primary Typing\n",
      "dragon    105.979167\n",
      "Name: Attack, dtype: float64\n"
     ]
    }
   ],
   "source": [
    "type_with_highest_average_attack = average_attack_by_type.idxmax()\n",
    "highest_average_attack_value = average_attack_by_type.max()\n",
    "print(f\"\\nTipo con el mayor promedio de Attack:\")\n",
    "print(average_attack_by_type.sort_values(ascending=False).head(1))"
   ]
  },
  {
   "cell_type": "markdown",
   "id": "0a3e3844",
   "metadata": {},
   "source": [
    "Pregunta 6: Crear un histograma de la variable Speed"
   ]
  },
  {
   "cell_type": "code",
   "execution_count": 27,
   "id": "6b52c016",
   "metadata": {},
   "outputs": [
    {
     "data": {
      "image/png": "[encoded data removed]",
      "text/plain": [
       "<Figure size 1000x600 with 1 Axes>"
      ]
     },
     "metadata": {},
     "output_type": "display_data"
    }
   ],
   "source": [
    "plt.figure(figsize=(10, 6))\n",
    "sns.histplot(df_pokemon['Speed'], bins=10, kde=True, color='skyblue', edgecolor='black')\n",
    "plt.title('Histograma de la Variabel Speed', fontsize=16)\n",
    "plt.xlabel('Speed', fontsize=12)\n",
    "plt.ylabel('Frecuencia', fontsize=12)\n",
    "plt.show()"
   ]
  }
 ],
 "metadata": {
  "kernelspec": {
   "display_name": "virtualenv",
   "language": "python",
   "name": "python3"
  },
  "language_info": {
   "codemirror_mode": {
    "name": "ipython",
    "version": 3
   },
   "file_extension": ".py",
   "mimetype": "text/x-python",
   "name": "python",
   "nbconvert_exporter": "python",
   "pygments_lexer": "ipython3",
   "version": "3.11.3"
  }
 },
 "nbformat": 4,
 "nbformat_minor": 5
}
